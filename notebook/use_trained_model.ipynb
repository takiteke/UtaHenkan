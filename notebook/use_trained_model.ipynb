{
 "cells": [
  {
   "cell_type": "code",
   "execution_count": 52,
   "metadata": {
    "collapsed": false
   },
   "outputs": [],
   "source": [
    "from PIL import Image\n",
    "import numpy as np\n",
    "import os\n",
    "os.chdir(\"C:\\\\Users\\\\TakaiYohei\\\\Desktop\\\\pix2pix\")\n",
    "import chainer\n",
    "from chainer import Variable\n",
    "from net import Encoder\n",
    "from net import Decoder"
   ]
  },
  {
   "cell_type": "code",
   "execution_count": 53,
   "metadata": {
    "collapsed": true
   },
   "outputs": [],
   "source": [
    "# Set up a neural network\n",
    "enc = Encoder(in_ch=12)\n",
    "dec = Decoder(out_ch=3)"
   ]
  },
  {
   "cell_type": "code",
   "execution_count": 54,
   "metadata": {
    "collapsed": true
   },
   "outputs": [],
   "source": [
    "# load terained models\n",
    "chainer.serializers.load_npz(\"./result/enc_iter_50000.npz\", enc)\n",
    "chainer.serializers.load_npz(\"./result/dec_iter_50000.npz\", dec)"
   ]
  },
  {
   "cell_type": "code",
   "execution_count": 65,
   "metadata": {
    "collapsed": false
   },
   "outputs": [],
   "source": [
    "# load input\n",
    "label = Image.open(\"./facade/base/cmp_b0001.png\")\n",
    "w,h = label.size\n",
    "r = 286 / float(min(w,h))\n",
    "# resize images so that min(w, h) == 286\n",
    "w = int(r*w)\n",
    "h = int(r*h)\n",
    "label = label.resize((w, h), Image.NEAREST)"
   ]
  },
  {
   "cell_type": "code",
   "execution_count": 66,
   "metadata": {
    "collapsed": false
   },
   "outputs": [
    {
     "name": "stdout",
     "output_type": "stream",
     "text": [
      "(539, 286)\n"
     ]
    }
   ],
   "source": [
    "label_ = np.asarray(label)-1  # [0, 12)\n",
    "print(label_.shape)\n",
    "label = np.zeros((1, 12, h, w)).astype(\"i\") # (12(ラベルの数), H, W)のint型\n",
    "for j in range(12):\n",
    "    label[0,j,:] = label_==j"
   ]
  },
  {
   "cell_type": "code",
   "execution_count": 67,
   "metadata": {
    "collapsed": false
   },
   "outputs": [],
   "source": [
    "crop_width = 256\n",
    "x_l = np.random.randint(0,w-crop_width)\n",
    "x_r = x_l+crop_width\n",
    "y_l = np.random.randint(0,h-crop_width)\n",
    "y_r = y_l+crop_width\n",
    "label = label[:,:,y_l:y_r,x_l:x_r]\n",
    "label = Variable(label.astype(\"f\"))"
   ]
  },
  {
   "cell_type": "code",
   "execution_count": 68,
   "metadata": {
    "collapsed": false
   },
   "outputs": [],
   "source": [
    "# encode & decode\n",
    "x = dec(enc(label))"
   ]
  },
  {
   "cell_type": "code",
   "execution_count": 69,
   "metadata": {
    "collapsed": false
   },
   "outputs": [
    {
     "name": "stdout",
     "output_type": "stream",
     "text": [
      "(1, 3, 256, 256)\n",
      "(3, 256, 256)\n"
     ]
    }
   ],
   "source": [
    "# save output image\n",
    "print(x.shape)\n",
    "_, C, H, W = x.shape\n",
    "x = x.reshape((C, H, W))\n",
    "print(x.shape)\n",
    "x = x.transpose(1, 2, 0)"
   ]
  },
  {
   "cell_type": "code",
   "execution_count": 70,
   "metadata": {
    "collapsed": false
   },
   "outputs": [],
   "source": [
    "x = x * 128+128"
   ]
  },
  {
   "cell_type": "code",
   "execution_count": 71,
   "metadata": {
    "collapsed": false
   },
   "outputs": [],
   "source": [
    "x = x.data"
   ]
  },
  {
   "cell_type": "code",
   "execution_count": 72,
   "metadata": {
    "collapsed": false
   },
   "outputs": [],
   "source": [
    "x = np.clip(x, 0.0, 255.0)"
   ]
  },
  {
   "cell_type": "code",
   "execution_count": 73,
   "metadata": {
    "collapsed": false
   },
   "outputs": [],
   "source": [
    "x = x.astype('uint8')"
   ]
  },
  {
   "cell_type": "code",
   "execution_count": 74,
   "metadata": {
    "collapsed": false
   },
   "outputs": [],
   "source": [
    "Image.fromarray(x).convert('RGB').save('./output.png')"
   ]
  },
  {
   "cell_type": "code",
   "execution_count": null,
   "metadata": {
    "collapsed": true
   },
   "outputs": [],
   "source": []
  }
 ],
 "metadata": {
  "kernelspec": {
   "display_name": "Python 3",
   "language": "python",
   "name": "python3"
  },
  "language_info": {
   "codemirror_mode": {
    "name": "ipython",
    "version": 3
   },
   "file_extension": ".py",
   "mimetype": "text/x-python",
   "name": "python",
   "nbconvert_exporter": "python",
   "pygments_lexer": "ipython3",
   "version": "3.6.0"
  }
 },
 "nbformat": 4,
 "nbformat_minor": 2
}
